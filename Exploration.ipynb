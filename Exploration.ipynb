{
 "cells": [
  {
   "cell_type": "code",
   "execution_count": null,
   "metadata": {
    "collapsed": true
   },
   "outputs": [],
   "source": [
    "# only really needed for pretty printing\n",
    "import sympy as sp\n",
    "\n",
    "# for setting times, initial conditions\n",
    "import numpy as np\n",
    "\n",
    "# pretty printing of mathematical expressions\n",
    "sp.init_printing()\n",
    "\n",
    "# to display animations\n",
    "from IPython.display import HTML\n",
    "\n",
    "# to display plots in the notebook\n",
    "%matplotlib inline\n",
    "\n",
    "import multipendulum as mp"
   ]
  },
  {
   "cell_type": "code",
   "execution_count": null,
   "metadata": {
    "collapsed": true
   },
   "outputs": [],
   "source": [
    "double = mp.MultiPendulum(2)"
   ]
  },
  {
   "cell_type": "markdown",
   "metadata": {},
   "source": [
    "## Explorations\n",
    "\n",
    "Without damping or driving, the dynamics of the two pendulum system are entirely dependent on the initial conditions. We will therefore begin by looking at how the behavior of the system depends on the initial conditions.\n",
    "\n",
    "### Transition to chaos when forcing a single eigenmode\n",
    "\n",
    "Let's begin by having one of the two linear eigenmodes start at a low amplitude."
   ]
  },
  {
   "cell_type": "code",
   "execution_count": null,
   "metadata": {},
   "outputs": [],
   "source": [
    "double.set_initial_conditions((0.1,0.0), (0,0), eigenmodes=True, degrees=False)\n",
    "double.integrate()\n",
    "fig = double.phase_plots()"
   ]
  },
  {
   "cell_type": "markdown",
   "metadata": {},
   "source": [
    "Trajectories in phase space (seen here in two 2d slices of the 4d phase space) are quite simple at low amplitude, as expected. These plots show the pendulum basis, but we can plot in the linear eigenmode basis, as well."
   ]
  },
  {
   "cell_type": "code",
   "execution_count": null,
   "metadata": {},
   "outputs": [],
   "source": [
    "fig = double.phase_plots(eigenmodes=True)"
   ]
  },
  {
   "cell_type": "markdown",
   "metadata": {},
   "source": [
    "The eigenmode we started in exhibits a simple trajectory; the other has a very low amplitude motion which shows the nonlinear coupling between the modes. If we were integrating linearized equations, the phase space coordinates $\\phi_1$ and $\\dot{\\phi}_1$ would be identically zero.\n",
    "\n",
    "Another way to look at the motion is to show the time evoloution of the four phase-space coordinates, rather than looking at trajectories directly."
   ]
  },
  {
   "cell_type": "code",
   "execution_count": null,
   "metadata": {},
   "outputs": [],
   "source": [
    "double.time_series_plots(eigenmodes=True);"
   ]
  },
  {
   "cell_type": "markdown",
   "metadata": {},
   "source": [
    "This behavior looks very regular and smooth, without a hint of chaos.  At large amplitude, however, "
   ]
  },
  {
   "cell_type": "code",
   "execution_count": null,
   "metadata": {},
   "outputs": [],
   "source": [
    "double.set_initial_conditions((1.5,0), (0,0), eigenmodes=True, degrees=False)\n",
    "double.integrate()\n",
    "fig = double.phase_plots()"
   ]
  },
  {
   "cell_type": "markdown",
   "metadata": {},
   "source": [
    "This certainly *looks* chaotic; whether or not it actually *is* is a question for when we can measure Liapunov exponents. What's the path from very ordered behavior to very disordered behavior?\n",
    "\n",
    "By testing different values of the initial value of the first eigenmode (without changing the other initial values), see if you can describe the transition. In particular:\n",
    "* For what initial value of $\\phi_0$ does the orbit stop looking like a simple circle?\n",
    "* For what initial value of $\\phi_0$ does the orbit first look chaotic?\n",
    "* Are these transitions abrupt, or gradual?\n",
    "* Are there any other qualitative changes in the orbit over this range? If so, at what initial values of $\\phi_0$ do they appear?\n",
    "\n",
    "\n",
    "### The second eigenmode\n",
    "\n",
    "Do we get the same situation when forcing the other eigenmode?"
   ]
  },
  {
   "cell_type": "code",
   "execution_count": null,
   "metadata": {},
   "outputs": [],
   "source": [
    "double.set_initial_conditions((0,0.1), (0,0), eigenmodes=True, degrees=False)\n",
    "double.integrate()\n",
    "fig = double.phase_plots()"
   ]
  },
  {
   "cell_type": "markdown",
   "metadata": {},
   "source": [
    "Low amplitude checks out."
   ]
  },
  {
   "cell_type": "code",
   "execution_count": null,
   "metadata": {},
   "outputs": [],
   "source": [
    "double.set_initial_conditions((0,1.55), (0,0), eigenmodes=True, degrees=False)\n",
    "double.integrate()\n",
    "fig = double.phase_plots()"
   ]
  },
  {
   "cell_type": "markdown",
   "metadata": {},
   "source": [
    "Again, it looks chaotic.\n",
    "\n",
    "Follow the analogous steps to answer the same set of questions for this case.\n",
    "\n",
    "### Starting a single pendulum instead of an eigenmode\n",
    "\n",
    "Now let's see what happens if we start with just one of the pendulums up instead of an eigenmode. The lower pendulum is easier to think about."
   ]
  },
  {
   "cell_type": "code",
   "execution_count": null,
   "metadata": {},
   "outputs": [],
   "source": [
    "double.set_initial_conditions((0,0.1), (0,0), degrees=False)\n",
    "double.integrate()\n",
    "fig = double.phase_plots()"
   ]
  },
  {
   "cell_type": "markdown",
   "metadata": {},
   "source": [
    "The two oscillators are coupled such that even a low amplitude motion in one causes motion in the other."
   ]
  },
  {
   "cell_type": "code",
   "execution_count": null,
   "metadata": {},
   "outputs": [],
   "source": [
    "double.set_initial_conditions((0,3), (0,0), degrees=False)\n",
    "double.integrate()\n",
    "fig = double.phase_plots()"
   ]
  },
  {
   "cell_type": "markdown",
   "metadata": {},
   "source": [
    "Work through the same set of questions here, plus:\n",
    "* Why do you suppose the transition to chaos happens at a higher initial value in this case?\n",
    "* Does your interpretation change if you look at the phase space trajectories in the eigenmode basis instead of the pendulum basis?\n",
    "\n",
    "Repeat the analysis for a nonzero initial value in the upper pendulum."
   ]
  }
 ],
 "metadata": {
  "anaconda-cloud": {},
  "kernelspec": {
   "display_name": "Python 3",
   "language": "python",
   "name": "python3"
  },
  "language_info": {
   "codemirror_mode": {
    "name": "ipython",
    "version": 3
   },
   "file_extension": ".py",
   "mimetype": "text/x-python",
   "name": "python",
   "nbconvert_exporter": "python",
   "pygments_lexer": "ipython3",
   "version": "3.6.2"
  }
 },
 "nbformat": 4,
 "nbformat_minor": 1
}
