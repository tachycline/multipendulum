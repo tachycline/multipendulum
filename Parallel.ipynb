{
 "cells": [
  {
   "cell_type": "markdown",
   "metadata": {
    "collapsed": true
   },
   "source": [
    "# Preliminaries\n",
    "\n",
    "Before running anything in this notebook, you must first start your cluster.  Do this in the \"IPython clusters\" tab of the file browser page (you can get to the file browser by clicking on the jupyter icon in the upper left corner of the page, but you probably have it open in another tab already).\n",
    "\n",
    "When the cluster is started, execute the following code to see how many compute engines you have."
   ]
  },
  {
   "cell_type": "code",
   "execution_count": 1,
   "metadata": {
    "collapsed": true
   },
   "outputs": [],
   "source": [
    "from ipyparallel import Client"
   ]
  },
  {
   "cell_type": "code",
   "execution_count": 50,
   "metadata": {
    "collapsed": false
   },
   "outputs": [],
   "source": [
    "# replace CQM here with the name of the cluster you started\n",
    "clustername = \"CQM\"\n",
    "\n",
    "# construct a way for us to interact with the cluster\n",
    "rc = Client(profile=clustername)"
   ]
  },
  {
   "cell_type": "code",
   "execution_count": 52,
   "metadata": {
    "collapsed": false
   },
   "outputs": [
    {
     "data": {
      "text/plain": [
       "74"
      ]
     },
     "execution_count": 52,
     "metadata": {},
     "output_type": "execute_result"
    }
   ],
   "source": [
    "# how long is the list of worker ids?\n",
    "len(rc.ids)"
   ]
  },
  {
   "cell_type": "markdown",
   "metadata": {},
   "source": [
    "I asked for 80 engines, so I ought to have that many, but we don't always get all of them, for some reason (I'll have to look into that at some point).\n",
    "\n",
    "# If you get any kind of error before reaching this point, you need to fix it before proceeding.\n",
    "\n",
    "\n",
    "## The paradigm\n",
    "\n",
    "There's more than one paradigm for working in parallel, but we will be using the simplest one.  We will package the work we want done into chunks which can be sent to *workers* (or *compute nodes*); the workers will execute what we send them and send back the results.\n",
    "\n",
    "For this to function properly, we need three things:\n",
    "1. We need a collection of packaged bits of work to send to the compute nodes;\n",
    "2. We need a way to send the work to the compute nodes; and \n",
    "3. We need a way to manage the results that come back.\n",
    "\n",
    "Let's deal with these in order.\n",
    "\n",
    "### Packaging work for remote execution\n",
    "\n",
    "First, something simple, just to show how this works. Since we're going to be running on multiple machines, let's try a simple function that tells us where it's executing. I should also keep track of which task is executing, since we'll be working with multiple tasks."
   ]
  },
  {
   "cell_type": "code",
   "execution_count": 4,
   "metadata": {
    "collapsed": false
   },
   "outputs": [
    {
     "data": {
      "text/plain": [
       "'Task 0 on atlacamani: /home/cmckay/multipendulum'"
      ]
     },
     "execution_count": 4,
     "metadata": {},
     "output_type": "execute_result"
    }
   ],
   "source": [
    "def where_executed(taskid=0):\n",
    "    \"\"\"Returns the POSIX nodename and working directory.\"\"\"\n",
    "    import os\n",
    "    \n",
    "    nodename = os.uname()[1]\n",
    "    cwd = os.getcwd()\n",
    "    \n",
    "    return \"Task {} on {}: {}\".format(taskid, nodename, cwd)\n",
    "\n",
    "where_executed()"
   ]
  },
  {
   "cell_type": "markdown",
   "metadata": {},
   "source": [
    "A couple of features make this function well suited for the kind of parallel execution we will be using.\n",
    "1. It is entirely self-contained. That is, it imports whatever modules are needed for it to run.\n",
    "2. It takes a single argument.\n",
    "\n",
    "Neither of these features is necessary to run in parallel, but they make life easier for the way we are approaching it.\n",
    "\n",
    "### Passing out work\n",
    "\n",
    "You've already seen the first part of what is necessary for passing out parallel work: a *client*. In our case, we have given the client the name `rc`.  The client represents the cluster as a whole. If we want to interact with the engines in any meaningful way, we will need to create a *view* on this client (that is, a way to access the engines).\n",
    "\n",
    "There are two main kinds of views: direct and load-balanced. If you choose the direct view, you will control which jobs get sent to which engines. In the load balanced view, a bit of software called a load-balancer sends roughly equal amounts of work to each engine. You will nearly always want the load balanced view."
   ]
  },
  {
   "cell_type": "code",
   "execution_count": 53,
   "metadata": {
    "collapsed": true
   },
   "outputs": [],
   "source": [
    "# could use rc.direct_view() instead\n",
    "lbv = rc.load_balanced_view()"
   ]
  },
  {
   "cell_type": "markdown",
   "metadata": {},
   "source": [
    "Let's run 20 instances of our `where_executed` function on the cluster. To keep track of which is which, I'll create a list of `task_ids` and [`map`](https://docs.python.org/3.6/library/functions.html#map) the `where_executed` function onto this list.  I will do this *synchronously*, which just means that I'll need to wait for the results before proceeding."
   ]
  },
  {
   "cell_type": "code",
   "execution_count": 6,
   "metadata": {
    "collapsed": false
   },
   "outputs": [],
   "source": [
    "task_ids = list(range(20))\n",
    "result = lbv.map_sync(where_executed, task_ids)"
   ]
  },
  {
   "cell_type": "markdown",
   "metadata": {},
   "source": [
    "### Managing results\n",
    "\n",
    "Note that I stored the output in a variable called `result`. Let's see what it contains."
   ]
  },
  {
   "cell_type": "code",
   "execution_count": 7,
   "metadata": {
    "collapsed": false
   },
   "outputs": [
    {
     "data": {
      "text/plain": [
       "['Task 0 on atlacamani-192-168-0-3: /home/cmckay/clusters/CQM',\n",
       " 'Task 1 on atlacamani-192-168-0-3: /home/cmckay/clusters/CQM',\n",
       " 'Task 2 on atlacamani-192-168-0-6: /home/cmckay/clusters/CQM',\n",
       " 'Task 3 on atlacamani-192-168-0-6: /home/cmckay/clusters/CQM',\n",
       " 'Task 4 on atlacamani-192-168-0-3: /home/cmckay/clusters/CQM',\n",
       " 'Task 5 on atlacamani-192-168-0-3: /home/cmckay/clusters/CQM',\n",
       " 'Task 6 on atlacamani-192-168-0-6: /home/cmckay/clusters/CQM',\n",
       " 'Task 7 on atlacamani-192-168-0-3: /home/cmckay/clusters/CQM',\n",
       " 'Task 8 on atlacamani-192-168-0-3: /home/cmckay/clusters/CQM',\n",
       " 'Task 9 on atlacamani-192-168-0-6: /home/cmckay/clusters/CQM',\n",
       " 'Task 10 on atlacamani-192-168-0-6: /home/cmckay/clusters/CQM',\n",
       " 'Task 11 on atlacamani-192-168-0-3: /home/cmckay/clusters/CQM',\n",
       " 'Task 12 on atlacamani-192-168-0-6: /home/cmckay/clusters/CQM',\n",
       " 'Task 13 on atlacamani-192-168-0-3: /home/cmckay/clusters/CQM',\n",
       " 'Task 14 on atlacamani-192-168-0-6: /home/cmckay/clusters/CQM',\n",
       " 'Task 15 on atlacamani-192-168-0-6: /home/cmckay/clusters/CQM',\n",
       " 'Task 16 on atlacamani-192-168-0-9: /home/cmckay/clusters/CQM',\n",
       " 'Task 17 on atlacamani-192-168-0-9: /home/cmckay/clusters/CQM',\n",
       " 'Task 18 on atlacamani-192-168-0-9: /home/cmckay/clusters/CQM',\n",
       " 'Task 19 on atlacamani-192-168-0-9: /home/cmckay/clusters/CQM']"
      ]
     },
     "execution_count": 7,
     "metadata": {},
     "output_type": "execute_result"
    }
   ],
   "source": [
    "result"
   ]
  },
  {
   "cell_type": "markdown",
   "metadata": {},
   "source": [
    "For synchronous execution, we typically just get back a list of the outputs from the function we mapped onto our list of ids. When we move to asynchronous execution, the results object is a little more complicated; it tells us which of the jobs has already completed, for example.\n",
    "\n",
    "We see that the tasks ran in the same directory (though it is different than the directory containing this notebook) but on different machines. It turns out this is a shared filesystem, so each task could see whatever the others write to disk if necessary.  \n",
    "\n",
    "If we want to use our `multipendulum` module, we will need to make sure it is available to the engines as they run. To check to see if this is the case, let's make a function that just imports the module and doesn't do anything else."
   ]
  },
  {
   "cell_type": "code",
   "execution_count": 8,
   "metadata": {
    "collapsed": true
   },
   "outputs": [],
   "source": [
    "def test_import(task_id):\n",
    "    \"\"\"Attempt to import the multipendulum module\"\"\"\n",
    "    \n",
    "    try:\n",
    "        import multipendulum as mp\n",
    "    except:\n",
    "        return \"task {} failed to import the module\".format(task_id)\n",
    "    return \"task {} succeeded in importing the module\".format(task_id)"
   ]
  },
  {
   "cell_type": "code",
   "execution_count": 9,
   "metadata": {
    "collapsed": false
   },
   "outputs": [
    {
     "data": {
      "text/plain": [
       "['task 0 succeeded in importing the module',\n",
       " 'task 1 succeeded in importing the module',\n",
       " 'task 2 succeeded in importing the module',\n",
       " 'task 3 succeeded in importing the module',\n",
       " 'task 4 succeeded in importing the module',\n",
       " 'task 5 succeeded in importing the module',\n",
       " 'task 6 succeeded in importing the module',\n",
       " 'task 7 succeeded in importing the module',\n",
       " 'task 8 succeeded in importing the module',\n",
       " 'task 9 succeeded in importing the module',\n",
       " 'task 10 succeeded in importing the module',\n",
       " 'task 11 succeeded in importing the module',\n",
       " 'task 12 succeeded in importing the module',\n",
       " 'task 13 succeeded in importing the module',\n",
       " 'task 14 succeeded in importing the module',\n",
       " 'task 15 succeeded in importing the module',\n",
       " 'task 16 succeeded in importing the module',\n",
       " 'task 17 succeeded in importing the module',\n",
       " 'task 18 succeeded in importing the module',\n",
       " 'task 19 succeeded in importing the module']"
      ]
     },
     "execution_count": 9,
     "metadata": {},
     "output_type": "execute_result"
    }
   ],
   "source": [
    "lbv.map_sync(test_import, task_ids)"
   ]
  },
  {
   "cell_type": "markdown",
   "metadata": {},
   "source": [
    "# If ANY of your tasks say they failed, fix that before proceeding!\n",
    "\n",
    "That took a little bit longer than the previous case (importing the module takes a little bit of time the first time around. Because of caching, the next time you try to run that cell, it will be somewhat faster). You can imagine that if you have a large number of time intensive calculations, waiting for them all to finish before you can move on would be problematic.  That leads us to...\n",
    "\n",
    "### Asynchronous operation\n",
    "\n",
    "Even though it's longer than just getting a path and hostname, `test_import` doesn't really last long enough for us to see how great asynchronous operation is.  Let's make a longer running function."
   ]
  },
  {
   "cell_type": "code",
   "execution_count": 10,
   "metadata": {
    "collapsed": true
   },
   "outputs": [],
   "source": [
    "def test_long(task_id):\n",
    "    \"\"\"Take a long time to execute.\"\"\"\n",
    "    import time\n",
    "    \n",
    "    # go to sleep for a number of seconds equal to the task_id\n",
    "    time.sleep(task_id)\n",
    "    return \"task {} finished.\".format(task_id)"
   ]
  },
  {
   "cell_type": "code",
   "execution_count": 11,
   "metadata": {
    "collapsed": true
   },
   "outputs": [],
   "source": [
    "result = lbv.map_async(test_long, task_ids)"
   ]
  },
  {
   "cell_type": "markdown",
   "metadata": {},
   "source": [
    "If you execute the next cell quickly..."
   ]
  },
  {
   "cell_type": "code",
   "execution_count": 12,
   "metadata": {
    "collapsed": false
   },
   "outputs": [
    {
     "data": {
      "text/plain": [
       "False"
      ]
     },
     "execution_count": 12,
     "metadata": {},
     "output_type": "execute_result"
    }
   ],
   "source": [
    "result.done()"
   ]
  },
  {
   "cell_type": "markdown",
   "metadata": {},
   "source": [
    "... you will see that the computation has not finished. We can get even more detailed than that, however, and see which tasks have already finished, and when:"
   ]
  },
  {
   "cell_type": "code",
   "execution_count": 13,
   "metadata": {
    "collapsed": false
   },
   "outputs": [
    {
     "data": {
      "text/plain": [
       "[datetime.datetime(2017, 10, 31, 14, 14, 35, 476190),\n",
       " datetime.datetime(2017, 10, 31, 14, 14, 36, 560587),\n",
       " datetime.datetime(2017, 10, 31, 14, 14, 37, 606587),\n",
       " None,\n",
       " None,\n",
       " None,\n",
       " None,\n",
       " None,\n",
       " None,\n",
       " None,\n",
       " None,\n",
       " None,\n",
       " None,\n",
       " None,\n",
       " None,\n",
       " None,\n",
       " None,\n",
       " None,\n",
       " None,\n",
       " None]"
      ]
     },
     "execution_count": 13,
     "metadata": {},
     "output_type": "execute_result"
    }
   ],
   "source": [
    "result.completed"
   ]
  },
  {
   "cell_type": "markdown",
   "metadata": {},
   "source": [
    "If you wait a few more seconds, you should see that everything is"
   ]
  },
  {
   "cell_type": "code",
   "execution_count": 14,
   "metadata": {
    "collapsed": false
   },
   "outputs": [
    {
     "data": {
      "text/plain": [
       "True"
      ]
     },
     "execution_count": 14,
     "metadata": {},
     "output_type": "execute_result"
    }
   ],
   "source": [
    "result.done()"
   ]
  },
  {
   "cell_type": "markdown",
   "metadata": {},
   "source": [
    "The output is stored in `<result>.r`."
   ]
  },
  {
   "cell_type": "code",
   "execution_count": 15,
   "metadata": {
    "collapsed": false
   },
   "outputs": [
    {
     "data": {
      "text/plain": [
       "['task 0 finished.',\n",
       " 'task 1 finished.',\n",
       " 'task 2 finished.',\n",
       " 'task 3 finished.',\n",
       " 'task 4 finished.',\n",
       " 'task 5 finished.',\n",
       " 'task 6 finished.',\n",
       " 'task 7 finished.',\n",
       " 'task 8 finished.',\n",
       " 'task 9 finished.',\n",
       " 'task 10 finished.',\n",
       " 'task 11 finished.',\n",
       " 'task 12 finished.',\n",
       " 'task 13 finished.',\n",
       " 'task 14 finished.',\n",
       " 'task 15 finished.',\n",
       " 'task 16 finished.',\n",
       " 'task 17 finished.',\n",
       " 'task 18 finished.',\n",
       " 'task 19 finished.']"
      ]
     },
     "execution_count": 15,
     "metadata": {},
     "output_type": "execute_result"
    }
   ],
   "source": [
    "result.r"
   ]
  },
  {
   "cell_type": "markdown",
   "metadata": {},
   "source": [
    "Because of the client-server nature of the jupyter notebook, you can submit a collection of work via `map_async`, turn off your laptop, and come back the next day to find the work completed.\n",
    "\n",
    "## Now let's do something useful\n",
    "As a starting point, let's define a function that:\n",
    "1. imports the multipendulum module\n",
    "2. creates two multipendulum objects with nearly identical initial conditions\n",
    "3. estimates the Lyapunov exponent from the results"
   ]
  },
  {
   "cell_type": "code",
   "execution_count": 49,
   "metadata": {
    "collapsed": true
   },
   "outputs": [],
   "source": [
    "def lyapunov_pert_theta_0(theta_0, return_plottable=False):\n",
    "    \"\"\"Estimate a Lyapunov exponent near (theta_0, 1e-8, 1e-8, 1e-8).\"\"\"\n",
    "    \n",
    "    # this is temporary until diagnostics are refactored out of multipendulum\n",
    "    import matplotlib; matplotlib.use('agg')\n",
    "    \n",
    "    import multipendulum as mp\n",
    "    import numpy as np\n",
    "    from scipy.optimize import curve_fit\n",
    "    import sympy as sp\n",
    "\n",
    "    initial_conditions = np.array([theta_0, 1.0e-8, 1.0e-8, 1.0e-8])\n",
    "\n",
    "    # baseline case\n",
    "    baseline = mp.MultiPendulum(2)\n",
    "    baseline.set_initial_conditions(initial_conditions[0:2], initial_conditions[2:],\n",
    "                                   degrees=False, eigenmodes=False)\n",
    "    baseline.integrate()\n",
    "    \n",
    "    # perturbed case\n",
    "    perturbed = mp.MultiPendulum(2)\n",
    "    \n",
    "    # make an energy conserving perturbation\n",
    "    # this should be refactored in\n",
    "    efunc = perturbed.build_energy_func()\n",
    "    coords = list(perturbed.q) + list(perturbed.u)\n",
    "\n",
    "    grad_E = np.array([sp.lambdify(coords, sp.diff(perturbed.E_numerical, coord))(*initial_conditions)\n",
    "                       for coord in coords])\n",
    "    grad_E_normalized = grad_E/np.sqrt(grad_E.dot(grad_E))\n",
    "\n",
    "    a = np.random.random(4)\n",
    "    ehat = a - a.dot(grad_E_normalized)*grad_E_normalized\n",
    "    ehat = ehat/np.sqrt(ehat.dot(ehat))\n",
    "    perturbation = ehat*1.0e-10\n",
    "    new_initials = initial_conditions + perturbation\n",
    "    \n",
    "    perturbed.set_initial_conditions(new_initials[0:2], new_initials[2:],\n",
    "                                     degrees=False, eigenmodes=False)\n",
    "    perturbed.integrate()\n",
    "    \n",
    "    # calculate delta z\n",
    "    deltazvec = baseline.timeseries - perturbed.timeseries\n",
    "    deltaz = np.sqrt(np.sum(deltazvec**2, axis=1))\n",
    "    \n",
    "    # do a fit to get the estimated Lyapunov exponent\n",
    "    def linfunc(x, a, b):\n",
    "        return a*x + b\n",
    "\n",
    "    xdata = baseline.times\n",
    "    ydata = np.log(deltaz)\n",
    "    xmax = np.max(xdata)\n",
    "    xmin = np.min(xdata)\n",
    "    \n",
    "    nx = len(xdata)\n",
    "\n",
    "    # should do something smarter for bounds\n",
    "    xa = 20\n",
    "    xb = 80\n",
    "    idxmin = int(xa/(xmax-xmin) * nx)\n",
    "    idxmax = int(xb/(xmax-xmin) * nx)\n",
    "\n",
    "    popt, pcov = curve_fit(linfunc, xdata[idxmin:idxmax], ydata[idxmin:idxmax])\n",
    "    \n",
    "    if return_plottable:\n",
    "        return popt, baseline.times, deltaz\n",
    "    else:\n",
    "        return popt[0]\n",
    "    "
   ]
  },
  {
   "cell_type": "markdown",
   "metadata": {},
   "source": [
    "Let's test that before we go crazy with parallel execution."
   ]
  },
  {
   "cell_type": "code",
   "execution_count": 42,
   "metadata": {
    "collapsed": true
   },
   "outputs": [],
   "source": [
    "%matplotlib inline\n",
    "import matplotlib.pyplot as plt"
   ]
  },
  {
   "cell_type": "code",
   "execution_count": 46,
   "metadata": {
    "collapsed": false
   },
   "outputs": [
    {
     "data": {
      "text/plain": [
       "0.0044572345513363464"
      ]
     },
     "execution_count": 46,
     "metadata": {},
     "output_type": "execute_result"
    }
   ],
   "source": [
    "lyapunov_pert_theta_0(0.1)"
   ]
  },
  {
   "cell_type": "markdown",
   "metadata": {},
   "source": [
    "Since the direction of the perturbation is random (and details matter), we might expect different values if we execute that function multiple times. I could fix that by using a specific random seed, but I think we may want to use it, instead."
   ]
  },
  {
   "cell_type": "code",
   "execution_count": 47,
   "metadata": {
    "collapsed": false
   },
   "outputs": [
    {
     "data": {
      "text/plain": [
       "0.032813009854342851"
      ]
     },
     "execution_count": 47,
     "metadata": {},
     "output_type": "execute_result"
    }
   ],
   "source": [
    "lyapunov_pert_theta_0(0.1)"
   ]
  },
  {
   "cell_type": "markdown",
   "metadata": {},
   "source": [
    "I'd like to see $\\delta_z$ and the fit so that I know things are working."
   ]
  },
  {
   "cell_type": "code",
   "execution_count": 40,
   "metadata": {
    "collapsed": true
   },
   "outputs": [],
   "source": [
    "popt, xdata, ydata = lyapunov_pert_theta_0(0.1, return_plottable=True)"
   ]
  },
  {
   "cell_type": "code",
   "execution_count": 44,
   "metadata": {
    "collapsed": false
   },
   "outputs": [],
   "source": [
    "def lambda_plot(popt, xdata, ydata):\n",
    "    def linfunc(x, a, b):\n",
    "        return a*x + b\n",
    "\n",
    "    yfit = linfunc(xdata, *popt)\n",
    "    plt.plot(xdata, np.log(ydata), label='data')\n",
    "    plt.plot(xdata, yfit, label='fit')\n",
    "    plt.xlabel(\"time\")\n",
    "    plt.ylabel(\"$\\ln (\\delta z)$\")\n",
    "    title = plt.title(\"$\\lambda_0$ = {}\".format(popt[0]))"
   ]
  },
  {
   "cell_type": "code",
   "execution_count": 45,
   "metadata": {
    "collapsed": false
   },
   "outputs": [
    {
     "data": {
      "image/png": "[encoded data removed]",
      "text/plain": [
       "<matplotlib.figure.Figure at 0x7f117624ae10>"
      ]
     },
     "metadata": {},
     "output_type": "display_data"
    }
   ],
   "source": [
    "lambda_plot(*lyapunov_pert_theta_0(0.1, return_plottable=True))"
   ]
  },
  {
   "cell_type": "markdown",
   "metadata": {},
   "source": [
    "After the initial jump up (which may be an underlying precision thing?) the two trajectories don't get further than about $1\\times 10^{-13}$ apart, which I wouldn't call much in the way of growth.\n",
    "\n",
    "So, that seems to work. Let's now try to answer the question, how does $\\lambda_0$ depend on inital $\\theta_0$? Let's just do 50 data points to start, so that each engine only has to run once."
   ]
  },
  {
   "cell_type": "code",
   "execution_count": 57,
   "metadata": {
    "collapsed": true
   },
   "outputs": [],
   "source": [
    "theta_0_values = np.linspace(1.0e-8, 1.5, 50)\n",
    "result = lbv.map_async(lyapunov_pert_theta_0, theta_0_values)"
   ]
  },
  {
   "cell_type": "markdown",
   "metadata": {},
   "source": [
    "Now we wait for it to finish. If you expect that (a) it won't take too long, and (b) you don't have other stuff to do while you're waiting, you can either have it block until it's finished (which is roughly the same as converting `map_async` to `map_sync` after the fact) or you can use the very cool `wait_interactive` method."
   ]
  },
  {
   "cell_type": "code",
   "execution_count": 58,
   "metadata": {
    "collapsed": false
   },
   "outputs": [
    {
     "name": "stdout",
     "output_type": "stream",
     "text": [
      "  50/50 tasks finished after   22 s\n",
      "done\n"
     ]
    }
   ],
   "source": [
    "result.wait_interactive()"
   ]
  },
  {
   "cell_type": "code",
   "execution_count": 56,
   "metadata": {
    "collapsed": false
   },
   "outputs": [
    {
     "data": {
      "text/plain": [
       "[<matplotlib.lines.Line2D at 0x7f11758800b8>]"
      ]
     },
     "execution_count": 56,
     "metadata": {},
     "output_type": "execute_result"
    },
    {
     "data": {
      "image/png": "[encoded data removed]",
      "text/plain": [
       "<matplotlib.figure.Figure at 0x7f11758b4630>"
      ]
     },
     "metadata": {},
     "output_type": "display_data"
    }
   ],
   "source": [
    "plt.plot(theta_0_values, result.r)"
   ]
  },
  {
   "cell_type": "markdown",
   "metadata": {},
   "source": [
    "There's a lot of noise, here. Let's make use of the fact that the perturbations are in random directions to smooth that out.  If we run the same calculation multiple times (with different random perturbations of the same magnitude) and average the result, it should give us a nice, smooth plot. Let's try a single value first, to get a sense of how long it might take."
   ]
  },
  {
   "cell_type": "code",
   "execution_count": 63,
   "metadata": {
    "collapsed": false
   },
   "outputs": [],
   "source": [
    "same_theta = 0.1*np.ones(1000)\n",
    "result = lbv.map_async(lyapunov_pert_theta_0, same_theta)"
   ]
  },
  {
   "cell_type": "code",
   "execution_count": 64,
   "metadata": {
    "collapsed": false
   },
   "outputs": [
    {
     "name": "stdout",
     "output_type": "stream",
     "text": [
      "1000/1000 tasks finished after  133 s\n",
      "done\n"
     ]
    }
   ],
   "source": [
    "result.wait_interactive()"
   ]
  },
  {
   "cell_type": "code",
   "execution_count": 68,
   "metadata": {
    "collapsed": false
   },
   "outputs": [
    {
     "data": {
      "image/png": "[encoded data removed]",
      "text/plain": [
       "<matplotlib.figure.Figure at 0x7f1174b8a320>"
      ]
     },
     "metadata": {},
     "output_type": "display_data"
    }
   ],
   "source": [
    "plt.hist(result.r, bins=15);"
   ]
  },
  {
   "cell_type": "markdown",
   "metadata": {},
   "source": [
    "An ensemble of 1000 runs takes about 2 minutes, and gives us a distribution of estimated Lyapunov exponents that looks relatively Gaussian. Do we get the same kind of results at a higher initial value for $\\theta_0$?"
   ]
  },
  {
   "cell_type": "code",
   "execution_count": 69,
   "metadata": {
    "collapsed": false
   },
   "outputs": [
    {
     "name": "stdout",
     "output_type": "stream",
     "text": [
      "1000/1000 tasks finished after  283 s\n",
      "done\n"
     ]
    }
   ],
   "source": [
    "same_theta = 2.5*np.ones(1000)\n",
    "result = lbv.map_async(lyapunov_pert_theta_0, same_theta)\n",
    "result.wait_interactive()"
   ]
  },
  {
   "cell_type": "code",
   "execution_count": 70,
   "metadata": {
    "collapsed": false
   },
   "outputs": [
    {
     "data": {
      "image/png": "[encoded data removed]",
      "text/plain": [
       "<matplotlib.figure.Figure at 0x7f117581e390>"
      ]
     },
     "metadata": {},
     "output_type": "display_data"
    }
   ],
   "source": [
    "plt.hist(result.r, bins=15);"
   ]
  },
  {
   "cell_type": "markdown",
   "metadata": {},
   "source": [
    "It takes a little more than twice as long, first of all. Second, the distribution doesn't look quite as close to Gaussian, but with only 1000 data points, it's not obvious to me how Gaussian it ought to look. The exponent is still pretty close to zero, so I can't tell just by looking at it if we've hit the chaotic regime yet."
   ]
  },
  {
   "cell_type": "code",
   "execution_count": 74,
   "metadata": {
    "collapsed": false
   },
   "outputs": [],
   "source": [
    "same_theta = 3.0*np.ones(5000)\n",
    "result = lbv.map_async(lyapunov_pert_theta_0, same_theta)\n",
    "#result.wait_interactive()"
   ]
  },
  {
   "cell_type": "code",
   "execution_count": null,
   "metadata": {
    "collapsed": true
   },
   "outputs": [],
   "source": []
  },
  {
   "cell_type": "code",
   "execution_count": 75,
   "metadata": {
    "collapsed": false
   },
   "outputs": [
    {
     "data": {
      "image/png": "[encoded data removed]",
      "text/plain": [
       "<matplotlib.figure.Figure at 0x7f11741b4550>"
      ]
     },
     "metadata": {},
     "output_type": "display_data"
    }
   ],
   "source": [
    "plt.hist(result.r, bins=15);"
   ]
  },
  {
   "cell_type": "markdown",
   "metadata": {},
   "source": [
    "That really doesn't seem right. With an initial $\\theta_0$ of 3.0, we ought to be in the chaotic regime, but the average value for $\\lambda_0$ is really close to zero, with quite a few negative values."
   ]
  },
  {
   "cell_type": "code",
   "execution_count": 77,
   "metadata": {
    "collapsed": false
   },
   "outputs": [
    {
     "data": {
      "text/plain": [
       "0.000443413366295918"
      ]
     },
     "execution_count": 77,
     "metadata": {},
     "output_type": "execute_result"
    }
   ],
   "source": [
    "np.mean(result.r)"
   ]
  },
  {
   "cell_type": "markdown",
   "metadata": {},
   "source": [
    "Plotting the actual data shows what is going on:"
   ]
  },
  {
   "cell_type": "code",
   "execution_count": 78,
   "metadata": {
    "collapsed": false
   },
   "outputs": [
    {
     "name": "stderr",
     "output_type": "stream",
     "text": [
      "/opt/anaconda3/lib/python3.5/site-packages/matplotlib/__init__.py:1357: UserWarning:  This call to matplotlib.use() has no effect\n",
      "because the backend has already been chosen;\n",
      "matplotlib.use() must be called *before* pylab, matplotlib.pyplot,\n",
      "or matplotlib.backends is imported for the first time.\n",
      "\n",
      "  warnings.warn(_use_error_msg)\n"
     ]
    },
    {
     "data": {
      "image/png": "[encoded data removed]",
      "text/plain": [
       "<matplotlib.figure.Figure at 0x7f116d8488d0>"
      ]
     },
     "metadata": {},
     "output_type": "display_data"
    }
   ],
   "source": [
    "lambda_plot(*lyapunov_pert_theta_0(3.0, return_plottable=True))"
   ]
  },
  {
   "cell_type": "markdown",
   "metadata": {},
   "source": [
    "Since I blindly set the limits to be between 20 and 80 for the curve fit, I'm actually fitting in a region where the growth has already leveled out. Clearly I need to be more clever. We should probably set limits based on y values, instead.\n",
    "\n",
    "While work on that, some homework:\n",
    "\n",
    "If you were going to use a single number to characterize the behavior of this model for each point in parameter space (i.e., each possible value of initial conditions), what quantity would you use? Lyapunov exponent is one possibility, but it isn't the only one.  What else should we be measuring?\n"
   ]
  },
  {
   "cell_type": "code",
   "execution_count": null,
   "metadata": {
    "collapsed": true
   },
   "outputs": [],
   "source": []
  },
  {
   "cell_type": "code",
   "execution_count": null,
   "metadata": {
    "collapsed": true
   },
   "outputs": [],
   "source": []
  }
 ],
 "metadata": {
  "kernelspec": {
   "display_name": "Python 3",
   "language": "python",
   "name": "python3"
  },
  "language_info": {
   "codemirror_mode": {
    "name": "ipython",
    "version": 3
   },
   "file_extension": ".py",
   "mimetype": "text/x-python",
   "name": "python",
   "nbconvert_exporter": "python",
   "pygments_lexer": "ipython3",
   "version": "3.5.2"
  }
 },
 "nbformat": 4,
 "nbformat_minor": 0
}
